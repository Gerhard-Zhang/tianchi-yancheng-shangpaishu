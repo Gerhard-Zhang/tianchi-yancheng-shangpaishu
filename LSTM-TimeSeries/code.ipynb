{
 "cells": [
  {
   "cell_type": "code",
   "execution_count": 1,
   "metadata": {},
   "outputs": [
    {
     "name": "stderr",
     "output_type": "stream",
     "text": [
      "Using TensorFlow backend.\n"
     ]
    }
   ],
   "source": [
    "# -*- coding: utf-8 -*-\n",
    "\n",
    "from __future__ import print_function\n",
    "\n",
    "import time\n",
    "import warnings\n",
    "import numpy as np\n",
    "import time\n",
    "import matplotlib.pyplot as plt\n",
    "from numpy import newaxis\n",
    "from keras.layers.core import Dense, Activation, Dropout\n",
    "from keras.layers.recurrent import LSTM\n",
    "from keras.models import Sequential\n",
    "\n",
    "warnings.filterwarnings(\"ignore\")"
   ]
  },
  {
   "cell_type": "code",
   "execution_count": 27,
   "metadata": {
    "collapsed": true
   },
   "outputs": [],
   "source": [
    "''' 处理数据使之符合LSTM的要求 '''\n",
    "\n",
    "def load_data(filename, seq_len, normalise_window):  # X_train, y_train, X_test, y_test = load_data('sp500.csv', seq_len, True)\n",
    "    f = open(filename, 'r').read()\n",
    "    data = f.split('\\n')\n",
    "\n",
    "    print('data len:',len(data))\n",
    "    print('sequence len:',seq_len)\n",
    "\n",
    "    sequence_length = seq_len + 1\n",
    "    result = []\n",
    "    for index in range(len(data) - sequence_length):\n",
    "        result.append(data[index: index + sequence_length])  #得到长度为seq_len+1的向量，最后一个作为label\n",
    "\n",
    "    print('result len:',len(result))\n",
    "    print('result shape:',np.array(result).shape)\n",
    "    print(result[:1])\n",
    "\n",
    "    if normalise_window:\n",
    "        result = normalise_windows(result)\n",
    "\n",
    "    print(result[:1])\n",
    "    print('normalise_windows result shape:',np.array(result).shape)\n",
    "\n",
    "    result = np.array(result)\n",
    "\n",
    "    #划分train、test\n",
    "    row = round(0.9 * result.shape[0])  #四舍五入\n",
    "    train = result[:row, :]\n",
    "    np.random.shuffle(train)\n",
    "    x_train = train[:, :-1]\n",
    "    y_train = train[:, -1]\n",
    "    x_test = result[row:, :-1]\n",
    "    y_test = result[row:, -1]\n",
    "\n",
    "    x_train = np.reshape(x_train, (x_train.shape[0], x_train.shape[1], 1))\n",
    "    x_test = np.reshape(x_test, (x_test.shape[0], x_test.shape[1], 1))\n",
    "\n",
    "    return [x_train, y_train, x_test, y_test]\n",
    "\n",
    "def normalise_windows(window_data):\n",
    "    normalised_data = []\n",
    "    for window in window_data:   #window shape (sequence_length L ,)  即(51L,)\n",
    "        normalised_window = [((float(p) / float(window[0])) - 1) for p in window]\n",
    "        normalised_data.append(normalised_window)\n",
    "    return normalised_data\n",
    "\n",
    "def build_model(layers):  #layers ： [1,50,100,1]\n",
    "    model = Sequential()\n",
    "\n",
    "    model.add(LSTM(input_dim=layers[0],output_dim=layers[1],return_sequences=True))\n",
    "    model.add(Dropout(0.2))\n",
    "\n",
    "    model.add(LSTM(layers[2],return_sequences=False))\n",
    "    model.add(Dropout(0.2))\n",
    "\n",
    "    model.add(Dense(output_dim=layers[3]))\n",
    "    model.add(Activation(\"linear\"))\n",
    "\n",
    "    start = time.time()\n",
    "    model.compile(loss=\"mse\", optimizer=\"rmsprop\")\n",
    "    print(\"Compilation Time : \", time.time() - start)\n",
    "    return model"
   ]
  },
  {
   "cell_type": "code",
   "execution_count": null,
   "metadata": {
    "collapsed": true
   },
   "outputs": [],
   "source": []
  },
  {
   "cell_type": "code",
   "execution_count": 28,
   "metadata": {
    "collapsed": true
   },
   "outputs": [],
   "source": [
    "#直接全部预测\n",
    "def predict_point_by_point(model, data):\n",
    "    predicted = model.predict(data)\n",
    "    print('predicted shape:',np.array(predicted).shape)  #(412L,1L)\n",
    "    predicted = np.reshape(predicted, (predicted.size,))\n",
    "    return predicted\n",
    "\n",
    "#滚动预测\n",
    "def predict_sequence_full(model, data, window_size):  #data X_test\n",
    "    curr_frame = data[0]  #(50L,1L)\n",
    "    predicted = []\n",
    "    for i in range(len(data)):\n",
    "        #x = np.array([[[1],[2],[3]], [[4],[5],[6]]])  x.shape (2, 3, 1) x[0,0] = array([1])  x[:,np.newaxis,:,:].shape  (2, 1, 3, 1)\n",
    "        predicted.append(model.predict(curr_frame[newaxis,:,:])[0,0])  #np.array(curr_frame[newaxis,:,:]).shape (1L,50L,1L)\n",
    "        curr_frame = curr_frame[1:]\n",
    "        curr_frame = np.insert(curr_frame, [window_size-1], predicted[-1], axis=0)   #numpy.insert(arr, obj, values, axis=None)\n",
    "    return predicted\n",
    "\n",
    "def predict_sequences_multiple(model, data, window_size, prediction_len):  #window_size = seq_len\n",
    "    prediction_seqs = []\n",
    "    for i in range(len(data)/prediction_len):\n",
    "        curr_frame = data[i*prediction_len]\n",
    "        predicted = []\n",
    "        for j in range(prediction_len):\n",
    "            predicted.append(model.predict(curr_frame[newaxis,:,:])[0,0])\n",
    "            curr_frame = curr_frame[1:]\n",
    "            curr_frame = np.insert(curr_frame, [window_size-1], predicted[-1], axis=0)\n",
    "        prediction_seqs.append(predicted)\n",
    "    return prediction_seqs\n",
    "\n",
    "def plot_results(predicted_data, true_data, filename):\n",
    "    fig = plt.figure(facecolor='white')\n",
    "    ax = fig.add_subplot(111)\n",
    "    ax.plot(true_data, label='True Data')\n",
    "    plt.plot(predicted_data, label='Prediction')\n",
    "    plt.legend()\n",
    "    plt.show()\n",
    "    plt.savefig(filename+'.png')\n",
    "\n",
    "def plot_results_multiple(predicted_data, true_data, prediction_len):\n",
    "    fig = plt.figure(facecolor='white')\n",
    "    ax = fig.add_subplot(111)\n",
    "    ax.plot(true_data, label='True Data')\n",
    "    #Pad the list of predictions to shift it in the graph to it's correct start\n",
    "    for i, data in enumerate(predicted_data):\n",
    "        padding = [None for p in range(i * prediction_len)]\n",
    "        plt.plot(padding + data, label='Prediction')\n",
    "        plt.legend()\n",
    "    plt.show()\n",
    "    plt.savefig('plot_results_multiple.png')\n"
   ]
  },
  {
   "cell_type": "code",
   "execution_count": 31,
   "metadata": {},
   "outputs": [
    {
     "name": "stdout",
     "output_type": "stream",
     "text": [
      "> Loading data... \n",
      "data len: 4172\n",
      "sequence len: 50\n",
      "result len: 4121\n",
      "result shape: (4121, 51)\n",
      "[['1455.219971', '1399.420044', '1402.109985', '1403.449951', '1441.469971', '1457.599976', '1438.560059', '1432.25', '1449.680054', '1465.150024', '1455.140015', '1455.900024', '1445.569946', '1441.359985', '1401.530029', '1410.030029', '1404.089966', '1398.560059', '1360.160034', '1394.459961', '1409.280029', '1409.119995', '1424.969971', '1424.369995', '1424.23999', '1441.719971', '1411.709961', '1416.829956', '1387.119995', '1389.939941', '1402.050049', '1387.670044', '1388.26001', '1346.089966', '1352.170044', '1360.689941', '1353.430054', '1333.359985', '1348.050049', '1366.420044', '1379.189941', '1381.76001', '1409.170044', '1391.280029', '1355.619995', '1366.699951', '1401.689941', '1395.069946', '1383.619995', '1359.150024', '1392.140015']]\n",
      "[[0.0, -0.03834466823710192, -0.03649619099406931, -0.03557539137153576, -0.009448743333663301, 0.001635495009297161, -0.011448380541775882, -0.01578453529895929, -0.003806927550748962, 0.006823747060848984, -5.494427068997165e-05, 0.0004673197272937468, -0.006631317046431495, -0.009524323659793943, -0.03689472593143783, -0.031053684597900588, -0.035135585010467096, -0.03893563387606924, -0.0653234142565241, -0.04175314468660485, -0.03156907059791858, -0.03167904297542101, -0.02078723533405935, -0.021199527641721727, -0.0212888646509648, -0.00927694800032397, -0.029899266686190917, -0.026380901695308046, -0.04679703230928234, -0.044859218057006656, -0.03653737789446543, -0.046419048904050575, -0.046013635281535015, -0.07499210234519249, -0.07081398623823587, -0.06495927205770868, -0.06994813088639229, -0.08373990766238593, -0.07364516989576142, -0.06102165223789391, -0.05224641739059799, -0.050480313948357725, -0.03164465023686791, -0.043938334598350504, -0.06844324431003834, -0.06082930537241782, -0.036784837390058, -0.04133397438097686, -0.04920216697603308, -0.06601747427502835, -0.04334736827220198]]\n",
      "normalise_windows result shape: (4121, 51)\n",
      "X_train shape: (3709, 50, 1)\n",
      "y_train shape: (3709,)\n",
      "X_test shape: (412, 50, 1)\n",
      "y_test shape: (412,)\n",
      "> Data Loaded. Compiling...\n",
      "Compilation Time :  0.02105545997619629\n",
      "Train on 3523 samples, validate on 186 samples\n",
      "Epoch 1/1\n",
      "3523/3523 [==============================] - 7s - loss: 0.0026 - val_loss: 0.0013\n"
     ]
    }
   ],
   "source": [
    "if __name__=='__main__':\n",
    "    global_start_time = time.time()\n",
    "    epochs  = 1\n",
    "    seq_len = 50\n",
    "\n",
    "    print('> Loading data... ')\n",
    "\n",
    "    X_train, y_train, X_test, y_test = load_data('sp500.csv', seq_len, True)\n",
    "\n",
    "    print('X_train shape:',X_train.shape)  #(3709L, 50L, 1L)\n",
    "    print('y_train shape:',y_train.shape)  #(3709L,)\n",
    "    print('X_test shape:',X_test.shape)    #(412L, 50L, 1L)\n",
    "    print('y_test shape:',y_test.shape)    #(412L,)\n",
    "\n",
    "    print('> Data Loaded. Compiling...')\n",
    "\n",
    "    model = build_model([1, 50, 100, 1])\n",
    "\n",
    "    model.fit(X_train,y_train,batch_size=512,nb_epoch=epochs,validation_split=0.05)"
   ]
  },
  {
   "cell_type": "code",
   "execution_count": 33,
   "metadata": {},
   "outputs": [
    {
     "name": "stdout",
     "output_type": "stream",
     "text": [
      "predicted shape: (412, 1)\n",
      "point_by_point_predictions shape: (412,)\n",
      "Training duration (s) :  57.46721887588501\n"
     ]
    },
    {
     "data": {
      "image/png": "[encoded data removed]",
      "text/plain": [
       "<matplotlib.figure.Figure at 0x1a5c0fa06a0>"
      ]
     },
     "metadata": {},
     "output_type": "display_data"
    }
   ],
   "source": [
    "#    multiple_predictions = predict_sequences_multiple(model, X_test, seq_len, prediction_len=50)\n",
    "#    print('multiple_predictions shape:',np.array(multiple_predictions).shape)   #(8L,50L)\n",
    "\n",
    "#full_predictions = predict_sequence_full(model, X_test, seq_len)\n",
    "#print('full_predictions shape:',np.array(full_predictions).shape)    #(412L,)\n",
    "\n",
    "point_by_point_predictions = predict_point_by_point(model, X_test)\n",
    "print('point_by_point_predictions shape:',np.array(point_by_point_predictions).shape)  #(412L)\n",
    "\n",
    "print('Training duration (s) : ', time.time() - global_start_time)\n",
    "\n",
    "#    plot_results_multiple(multiple_predictions, y_test, 50)\n",
    "#    plot_results(full_predictions,y_test,'full_predictions')\n",
    "plot_results(point_by_point_predictions,y_test,'point_by_point_predictions')"
   ]
  },
  {
   "cell_type": "code",
   "execution_count": 35,
   "metadata": {},
   "outputs": [
    {
     "data": {
      "text/plain": [
       "(412,)"
      ]
     },
     "execution_count": 35,
     "metadata": {},
     "output_type": "execute_result"
    }
   ],
   "source": [
    "'''上面就是博客里面的全部内容，下面是我的测试与验证 '''\n",
    "\n",
    "point_by_point_predictions.shape"
   ]
  },
  {
   "cell_type": "code",
   "execution_count": null,
   "metadata": {
    "collapsed": true
   },
   "outputs": [],
   "source": []
  },
  {
   "cell_type": "code",
   "execution_count": null,
   "metadata": {
    "collapsed": true
   },
   "outputs": [],
   "source": []
  },
  {
   "cell_type": "code",
   "execution_count": null,
   "metadata": {
    "collapsed": true
   },
   "outputs": [],
   "source": [
    "if __name__=='__main__':\n",
    "    global_start_time = time.time()\n",
    "    epochs  = 1\n",
    "    seq_len = 50\n",
    "\n",
    "    print('> Loading data... ')\n",
    "\n",
    "    X_train, y_train, X_test, y_test = load_data('sp500.csv', seq_len, True)\n",
    "\n",
    "    print('X_train shape:',X_train.shape)  #(3709L, 50L, 1L)\n",
    "    print('y_train shape:',y_train.shape)  #(3709L,)\n",
    "    print('X_test shape:',X_test.shape)    #(412L, 50L, 1L)\n",
    "    print('y_test shape:',y_test.shape)    #(412L,)\n",
    "\n",
    "    print('> Data Loaded. Compiling...')\n",
    "\n",
    "    model = build_model([1, 50, 100, 1])\n",
    "\n",
    "    model.fit(X_train,y_train,batch_size=512,nb_epoch=epochs,validation_split=0.05)\n",
    "\n",
    "    multiple_predictions = predict_sequences_multiple(model, X_test, seq_len, prediction_len=50)\n",
    "    print('multiple_predictions shape:',np.array(multiple_predictions).shape)   #(8L,50L)\n",
    "\n",
    "    full_predictions = predict_sequence_full(model, X_test, seq_len)\n",
    "    print('full_predictions shape:',np.array(full_predictions).shape)    #(412L,)\n",
    "\n",
    "    point_by_point_predictions = predict_point_by_point(model, X_test)\n",
    "    print('point_by_point_predictions shape:',np.array(point_by_point_predictions).shape)  #(412L)\n",
    "\n",
    "    print('Training duration (s) : ', time.time() - global_start_time)\n",
    "\n",
    "    plot_results_multiple(multiple_predictions, y_test, 50)\n",
    "    plot_results(full_predictions,y_test,'full_predictions')\n",
    "    plot_results(point_by_point_predictions,y_test,'point_by_point_predictions')"
   ]
  },
  {
   "cell_type": "code",
   "execution_count": null,
   "metadata": {
    "collapsed": true
   },
   "outputs": [],
   "source": []
  },
  {
   "cell_type": "code",
   "execution_count": null,
   "metadata": {
    "collapsed": true
   },
   "outputs": [],
   "source": []
  },
  {
   "cell_type": "code",
   "execution_count": null,
   "metadata": {
    "collapsed": true
   },
   "outputs": [],
   "source": []
  },
  {
   "cell_type": "code",
   "execution_count": 12,
   "metadata": {
    "collapsed": true
   },
   "outputs": [
    {
     "name": "stdout",
     "output_type": "stream",
     "text": [
      "data len: 4172\n",
      "sequence len: 50\n",
      "[[0.0, -0.03834466823710192, -0.03649619099406931, -0.03557539137153576, -0.009448743333663301, 0.001635495009297161, -0.011448380541775882, -0.01578453529895929, -0.003806927550748962, 0.006823747060848984, -5.494427068997165e-05, 0.0004673197272937468, -0.006631317046431495, -0.009524323659793943, -0.03689472593143783, -0.031053684597900588, -0.035135585010467096, -0.03893563387606924, -0.0653234142565241, -0.04175314468660485, -0.03156907059791858, -0.03167904297542101, -0.02078723533405935, -0.021199527641721727, -0.0212888646509648, -0.00927694800032397, -0.029899266686190917, -0.026380901695308046, -0.04679703230928234, -0.044859218057006656, -0.03653737789446543, -0.046419048904050575, -0.046013635281535015, -0.07499210234519249, -0.07081398623823587, -0.06495927205770868, -0.06994813088639229, -0.08373990766238593, -0.07364516989576142, -0.06102165223789391, -0.05224641739059799, -0.050480313948357725, -0.03164465023686791, -0.043938334598350504, -0.06844324431003834, -0.06082930537241782, -0.036784837390058, -0.04133397438097686, -0.04920216697603308, -0.06601747427502835, -0.04334736827220198]]\n",
      "normalise_windows result shape: (4121, 51)\n"
     ]
    }
   ],
   "source": [
    "''' temp '''\n",
    "seq_len = 50\n",
    "normalise_window = True\n",
    "\n",
    "f = open('sp500.csv', 'r').read()\n",
    "data = f.split('\\n')\n",
    "\n",
    "print('data len:',len(data))\n",
    "print('sequence len:',seq_len)\n",
    "\n",
    "sequence_length = seq_len + 1\n",
    "result = []\n",
    "for index in range(len(data) - sequence_length):\n",
    "    result.append(data[index: index + sequence_length])  \n",
    "# 得到长度为seq_len+1的向量，最后一个作为label\n",
    "'''\n",
    "[0,....,0+51]\n",
    "[1,....,1+51]\n",
    "[2,....,2+51]\n",
    "...\n",
    "...\n",
    "'''\n",
    "def normalise_windows(window_data):\n",
    "    normalised_data = []\n",
    "    for window in window_data:   #window shape (sequence_length L ,)  即(51L,)\n",
    "        normalised_window = [((float(p) / float(window[0])) - 1) for p in window]\n",
    "        normalised_data.append(normalised_window)\n",
    "    return normalised_data\n",
    "\n",
    "if normalise_window:\n",
    "    result = normalise_windows(result)\n",
    "print(result[:1])\n",
    "print('normalise_windows result shape:',np.array(result).shape)\n",
    "result = np.array(result)"
   ]
  },
  {
   "cell_type": "code",
   "execution_count": null,
   "metadata": {
    "collapsed": true
   },
   "outputs": [],
   "source": []
  }
 ],
 "metadata": {
  "kernelspec": {
   "display_name": "Python 3",
   "language": "python",
   "name": "python3"
  },
  "language_info": {
   "codemirror_mode": {
    "name": "ipython",
    "version": 3
   },
   "file_extension": ".py",
   "mimetype": "text/x-python",
   "name": "python",
   "nbconvert_exporter": "python",
   "pygments_lexer": "ipython3",
   "version": "3.6.3"
  }
 },
 "nbformat": 4,
 "nbformat_minor": 2
}
